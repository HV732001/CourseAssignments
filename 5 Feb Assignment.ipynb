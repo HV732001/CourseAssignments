{
 "cells": [
  {
   "cell_type": "code",
   "execution_count": 1,
   "id": "1a9d9ba9-a315-4ef5-8598-b492674636b2",
   "metadata": {},
   "outputs": [],
   "source": [
    "#Q1 Explain class and objects with respect object oriented programming .Give a suitable example?"
   ]
  },
  {
   "cell_type": "code",
   "execution_count": 2,
   "id": "865c2011-0afe-427a-8f41-0cf57cfbe22f",
   "metadata": {},
   "outputs": [
    {
     "name": "stdout",
     "output_type": "stream",
     "text": [
      "My car type is SUV\n"
     ]
    }
   ],
   "source": [
    "#Answer ->Class is the blueprint of real world entity An object is an instance of a class. When you create an object from a class, you allocate memory for the attributes defined in the class, and you can interact with the object by calling its methods. Each object has its own set of attribute values and behaviors, and these attribute values and behaviors are determined by the class that the object is created from.\n",
    "#example\n",
    "class car:\n",
    "    def __init__(self,car_type):\n",
    "        self.car_type = car_type\n",
    "    def car_info(self):\n",
    "        print(f\"My car type is {self.car_type}\")\n",
    "toyota_etios =car(\"SUV\")\n",
    "toyota_etios.car_info()"
   ]
  },
  {
   "cell_type": "code",
   "execution_count": 3,
   "id": "0515c88a-0139-4149-b52c-777196320a3b",
   "metadata": {},
   "outputs": [],
   "source": [
    "#Q2 Name the four pillars of OOPS?"
   ]
  },
  {
   "cell_type": "code",
   "execution_count": 4,
   "id": "dd06389a-2ac1-4d6f-b830-6cfacb169500",
   "metadata": {},
   "outputs": [],
   "source": [
    "#Answer The four pillars of object-oriented programming (OOP) are:\n",
    "\n",
    "#Abstraction: Abstraction means hiding the implementation details and showing only the necessary information to the user. This is achieved by using classes and objects, which can represent real-world entities in a simplified way.\n",
    "\n",
    "#Encapsulation: Encapsulation refers to the idea of wrapping data and functions within an object, making it a self-contained unit. This helps to prevent accidental modification of the data and promotes modularity and reusability.\n",
    "\n",
    "#Inheritance: Inheritance is a mechanism that allows you to create a new class that is based on an existing class. The new class inherits the attributes and behaviors of the existing class, and you can add or override attributes and behaviors as needed.\n",
    "\n",
    "#Polymorphism: Polymorphism refers to the ability of an object to take on multiple forms. This can be achieved by defining methods with the same name in different classes, and the correct method will be called based on the type of the object. This allows you to write generic code that can handle objects of different types in a uniform manner."
   ]
  },
  {
   "cell_type": "code",
   "execution_count": 5,
   "id": "9fcfd7da-3cc2-4b6f-8df4-a423295b40e4",
   "metadata": {},
   "outputs": [],
   "source": [
    "#Q3 Explain why the __init__ function is used ?Explain the example?"
   ]
  },
  {
   "cell_type": "code",
   "execution_count": 7,
   "id": "80dc26e1-af85-4d02-9d39-a02b3caaeef7",
   "metadata": {},
   "outputs": [
    {
     "name": "stdout",
     "output_type": "stream",
     "text": [
      "Toyota\n",
      "Camry\n",
      "2020\n"
     ]
    }
   ],
   "source": [
    "#The __init__ function is a special method in Python classes and is used to initialize an object's attributes when the object is created. It is automatically called when an object of the class is created, and it is commonly referred to as the constructor.\n",
    "\n",
    "#The __init__ function has a special syntax, with the double underscores before and after init, and it is defined as a method inside the class. When you create an object of the class, you pass the required arguments to the __init__ function, which are then used to initialize the attributes of the object.\n",
    "\n",
    "#Here is an example of how the __init__ function can be used in a class:\n",
    "class Car:\n",
    "    def __init__(self, make, model, year):\n",
    "        self.make = make\n",
    "        self.model = model\n",
    "        self.year = year\n",
    "\n",
    "my_car = Car(\"Toyota\", \"Camry\", 2020)\n",
    "\n",
    "print(my_car.make)\n",
    "\n",
    "\n",
    "print(my_car.model)\n",
    "\n",
    "\n",
    "print(my_car.year)\n",
    "\n"
   ]
  },
  {
   "cell_type": "code",
   "execution_count": 8,
   "id": "8a4c0d26-dd80-498a-a699-1f468e66dd21",
   "metadata": {},
   "outputs": [],
   "source": [
    "#Q4 Why self is used in oops?"
   ]
  },
  {
   "cell_type": "code",
   "execution_count": 9,
   "id": "bb2f09cf-9ede-42f4-85c0-702fa2b52959",
   "metadata": {},
   "outputs": [],
   "source": [
    "#In object-oriented programming (OOP), self is a special variable that is used to refer to the instance of an object that is calling the method. When you define a method in a class, the first argument to the method is always self. When you call the method on an object, you don't need to pass a value for self, because the object automatically gets passed as the first argument to the method.\n",
    "\n",
    "#Using self to access the attributes and methods of an object is essential for the proper functioning of OOP, because it allows you to write generic code that can be used with objects of different types. Without self, it would not be possible to differentiate between different instances of a class and their attributes."
   ]
  },
  {
   "cell_type": "code",
   "execution_count": 10,
   "id": "f9389382-1d60-42c9-ba02-6d1841b39934",
   "metadata": {},
   "outputs": [],
   "source": [
    "#Q5 What is inheritance ?Give example of each type of inheritance?\n"
   ]
  },
  {
   "cell_type": "code",
   "execution_count": 11,
   "id": "8156fdb2-a3e9-4e3f-aed5-9f8b4602d327",
   "metadata": {},
   "outputs": [],
   "source": [
    "#Inheritance is a fundamental concept in object-oriented programming (OOP) that allows you to create a new class based on an existing class. The new class is called the derived class or child class, and the existing class is called the base class or parent class. The derived class inherits the attributes and behaviors of the parent class, and you can add or override attributes and behaviors as needed.\n",
    "\n",
    "#There are several types of inheritance in OOP, including:\n",
    "\n",
    "#Single inheritance: Single inheritance is a type of inheritance where a class inherits from a single base class. In other words, a derived class has only one parent class.\n",
    "#Multi-level inheritance: Multi-level inheritance is a type of inheritance where a class inherits from a class that inherits from another class. In other words, a derived class has a parent class, and that parent class has another parent class.\n",
    "#Multiple inheritance: Multiple inheritance is a type of inheritance where a class inherits from multiple base classes\\\n",
    "#Hierarchical inheritance: Hierarchical inheritance is a type of inheritance where multiple derived classes inherit from a single base class."
   ]
  },
  {
   "cell_type": "code",
   "execution_count": null,
   "id": "4de13edf-d348-4a1b-af6b-29b7bb83f240",
   "metadata": {},
   "outputs": [],
   "source": []
  }
 ],
 "metadata": {
  "kernelspec": {
   "display_name": "Python 3 (ipykernel)",
   "language": "python",
   "name": "python3"
  },
  "language_info": {
   "codemirror_mode": {
    "name": "ipython",
    "version": 3
   },
   "file_extension": ".py",
   "mimetype": "text/x-python",
   "name": "python",
   "nbconvert_exporter": "python",
   "pygments_lexer": "ipython3",
   "version": "3.10.8"
  }
 },
 "nbformat": 4,
 "nbformat_minor": 5
}
