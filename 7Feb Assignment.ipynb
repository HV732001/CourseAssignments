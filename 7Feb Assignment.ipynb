{
 "cells": [
  {
   "cell_type": "code",
   "execution_count": 1,
   "id": "3134384e-a0c0-4866-9ff7-a5d0b3635d04",
   "metadata": {},
   "outputs": [],
   "source": [
    "#Q1 You are writing code for a company.The requirement of the company is that you create a python function that will checjk \n",
    "#whetherthe password entered by user is correct or not .The function should take the password as input and return the string \n",
    "#\"Valid Password\" if the eneterd passworrd follows the bellow given password guildlines else \"Invalid Password\"\n",
    "\n",
    "#Note : The password must contain at least two uppercase and two lower case letters .\n",
    "#The password should contain a least a number and three special characters \n",
    "#The password length of password should be 10 characters long"
   ]
  },
  {
   "cell_type": "code",
   "execution_count": 18,
   "id": "a0cda5ca-9844-4c3d-8142-5661cdd7ea96",
   "metadata": {},
   "outputs": [],
   "source": [
    "import re\n",
    "def password_check(password):\n",
    "    pattern = r'[~!@#$%^&*()_+{}\":;\\']'  # Define the regular expression pattern\n",
    "    length_flag = False\n",
    "    uppercase_flag = 0\n",
    "    lowercase_flag = 0\n",
    "    number_flag = False\n",
    "    sp_char_flag = 0\n",
    "    list_num = ['1','2','3','4','5','6','7','8','9','0']\n",
    "    if len(password) == 10:\n",
    "        length_flag = True\n",
    "        for index in password:\n",
    "            if index in list_num:\n",
    "                number_flag = True\n",
    "            elif index.isupper():\n",
    "                uppercase_flag +=1\n",
    "            elif index.islower():\n",
    "                lowercase_flag +=1    \n",
    "            elif re.search(pattern, index):\n",
    "                sp_char_flag +=1\n",
    "    if (length_flag) and (uppercase_flag>=2) and (lowercase_flag>=2) and (number_flag) and (sp_char_flag>=3):\n",
    "        return \"Valid Password\"\n",
    "    else:\n",
    "        return \"Invalid Password\"\n",
    "     \n",
    "    "
   ]
  },
  {
   "cell_type": "code",
   "execution_count": 21,
   "id": "b131c26a-cfe9-4dd8-af62-a77960a58615",
   "metadata": {},
   "outputs": [
    {
     "name": "stdout",
     "output_type": "stream",
     "text": [
      "True 2 4 True 1\n"
     ]
    },
    {
     "data": {
      "text/plain": [
       "'Invalid Password'"
      ]
     },
     "execution_count": 21,
     "metadata": {},
     "output_type": "execute_result"
    }
   ],
   "source": [
    "password_check(\"ABcd1@rt22\")"
   ]
  },
  {
   "cell_type": "code",
   "execution_count": 22,
   "id": "be2cf06f-97b8-467f-a61b-79da94715270",
   "metadata": {},
   "outputs": [
    {
     "data": {
      "text/plain": [
       "'Valid Password'"
      ]
     },
     "execution_count": 22,
     "metadata": {},
     "output_type": "execute_result"
    }
   ],
   "source": [
    "password_check(\"ABcd1@$%22\")"
   ]
  },
  {
   "cell_type": "code",
   "execution_count": 23,
   "id": "e0c300c6-849c-448d-931d-b431a03795ab",
   "metadata": {},
   "outputs": [],
   "source": [
    "#Q2 Solve the below-given questions using at one of the following :\n",
    "#Lambda Function\n",
    "#Filter Function\n",
    "#Map Function\n",
    "#List Comprehension"
   ]
  },
  {
   "cell_type": "code",
   "execution_count": 32,
   "id": "b5fa3aa8-e934-4608-ac05-257bc4411f45",
   "metadata": {},
   "outputs": [],
   "source": [
    "#Answer \n",
    "#Check if the string starts with a particular letter\n",
    "\n",
    "res =(lambda x : x.startswith(\"H\"))"
   ]
  },
  {
   "cell_type": "code",
   "execution_count": 31,
   "id": "0529f1f6-4633-4a7d-9b78-5270b21f5684",
   "metadata": {},
   "outputs": [
    {
     "data": {
      "text/plain": [
       "False"
      ]
     },
     "execution_count": 31,
     "metadata": {},
     "output_type": "execute_result"
    }
   ],
   "source": [
    "string1 = \"hello World\"\n",
    "res(string1)"
   ]
  },
  {
   "cell_type": "code",
   "execution_count": 33,
   "id": "f0f87f57-f7c3-445b-bbe4-332105dc627d",
   "metadata": {},
   "outputs": [
    {
     "data": {
      "text/plain": [
       "True"
      ]
     },
     "execution_count": 33,
     "metadata": {},
     "output_type": "execute_result"
    }
   ],
   "source": [
    "string1 = \"Hello World\"\n",
    "res(string1)"
   ]
  },
  {
   "cell_type": "code",
   "execution_count": 34,
   "id": "9ad9674a-fb40-4b24-8167-2109cccb4863",
   "metadata": {},
   "outputs": [],
   "source": [
    "#Check if the string is numeric\n",
    "res = lambda x : x.isnumeric()\n"
   ]
  },
  {
   "cell_type": "code",
   "execution_count": 35,
   "id": "c0515836-1275-4908-93e1-67c485d98a88",
   "metadata": {},
   "outputs": [
    {
     "data": {
      "text/plain": [
       "True"
      ]
     },
     "execution_count": 35,
     "metadata": {},
     "output_type": "execute_result"
    }
   ],
   "source": [
    "string2 = \"123\"\n",
    "res(string2)"
   ]
  },
  {
   "cell_type": "code",
   "execution_count": 36,
   "id": "1e9406b5-0268-44f3-81e0-6288d2308abf",
   "metadata": {},
   "outputs": [
    {
     "data": {
      "text/plain": [
       "False"
      ]
     },
     "execution_count": 36,
     "metadata": {},
     "output_type": "execute_result"
    }
   ],
   "source": [
    "string2 = \"12a\"\n",
    "res(string2)"
   ]
  },
  {
   "cell_type": "code",
   "execution_count": 37,
   "id": "e701969c-576a-45fe-ac64-4b01617e8b88",
   "metadata": {},
   "outputs": [
    {
     "name": "stdout",
     "output_type": "stream",
     "text": [
      "[('grapes', 1000), ('mango', 99), ('orange', 80)]\n"
     ]
    }
   ],
   "source": [
    "#Sort a list of tuples having fruit names and the quantity \n",
    "my_list = [(\"mango\",99),(\"orange\",80),(\"grapes\",1000)]\n",
    "sorted_list = sorted(my_list, key=lambda x: x[1], reverse=True)\n",
    "print(sorted_list)"
   ]
  },
  {
   "cell_type": "code",
   "execution_count": 39,
   "id": "4ae171a0-1ba7-4faa-b83f-a6affb1a9bfb",
   "metadata": {},
   "outputs": [],
   "source": [
    "#Find the squares of numbers from 1 to 10\n",
    "list_sqr=[ i**2 for i in range(1,11)] "
   ]
  },
  {
   "cell_type": "code",
   "execution_count": 40,
   "id": "f3c9c5ee-c0c1-478d-9300-1bc2722e7d24",
   "metadata": {},
   "outputs": [
    {
     "data": {
      "text/plain": [
       "[1, 4, 9, 16, 25, 36, 49, 64, 81, 100]"
      ]
     },
     "execution_count": 40,
     "metadata": {},
     "output_type": "execute_result"
    }
   ],
   "source": [
    "list_sqr"
   ]
  },
  {
   "cell_type": "code",
   "execution_count": 41,
   "id": "f38985a7-b25d-4cae-821e-dd788cbe86d2",
   "metadata": {},
   "outputs": [],
   "source": [
    "#Find the cube root of numbers from 1 to 10\n",
    "list_cube=[ i**3 for i in range(1,11)] "
   ]
  },
  {
   "cell_type": "code",
   "execution_count": 42,
   "id": "e23a8d3a-8325-4139-a7ec-2769db392d27",
   "metadata": {},
   "outputs": [
    {
     "data": {
      "text/plain": [
       "[1, 8, 27, 64, 125, 216, 343, 512, 729, 1000]"
      ]
     },
     "execution_count": 42,
     "metadata": {},
     "output_type": "execute_result"
    }
   ],
   "source": [
    "list_cube"
   ]
  },
  {
   "cell_type": "code",
   "execution_count": 45,
   "id": "ef04852d-8db4-4759-b8d4-7fe71b9c14eb",
   "metadata": {},
   "outputs": [],
   "source": [
    "#check if a given number is even\n",
    "res = lambda x: x%2==0"
   ]
  },
  {
   "cell_type": "code",
   "execution_count": 46,
   "id": "93fe7041-e260-43cf-bc04-144f48c92487",
   "metadata": {},
   "outputs": [
    {
     "data": {
      "text/plain": [
       "True"
      ]
     },
     "execution_count": 46,
     "metadata": {},
     "output_type": "execute_result"
    }
   ],
   "source": [
    "res(2)"
   ]
  },
  {
   "cell_type": "code",
   "execution_count": 47,
   "id": "e1774422-c4a1-4353-902a-a93e9e44662e",
   "metadata": {},
   "outputs": [
    {
     "data": {
      "text/plain": [
       "False"
      ]
     },
     "execution_count": 47,
     "metadata": {},
     "output_type": "execute_result"
    }
   ],
   "source": [
    "res(3)"
   ]
  },
  {
   "cell_type": "code",
   "execution_count": 48,
   "id": "145d95b9-c383-461d-a33b-6c64af8371cf",
   "metadata": {},
   "outputs": [],
   "source": [
    "#Filter odd list from the given list \n",
    "list_fil = [1,2,3,4,5,6,7,8,9,10]\n",
    "res = list(filter(lambda x: x%2!=0 , list_fil))"
   ]
  },
  {
   "cell_type": "code",
   "execution_count": 49,
   "id": "2e59c93f-9f30-4ed1-b581-ba163d292677",
   "metadata": {},
   "outputs": [
    {
     "data": {
      "text/plain": [
       "[1, 3, 5, 7, 9]"
      ]
     },
     "execution_count": 49,
     "metadata": {},
     "output_type": "execute_result"
    }
   ],
   "source": [
    "res"
   ]
  },
  {
   "cell_type": "code",
   "execution_count": 66,
   "id": "fe07a132-8b2d-4bda-8518-a5fd521fb613",
   "metadata": {},
   "outputs": [],
   "source": [
    "#Sort a list of integers into positive and negative list\n",
    "list_sort = [1,2,3,4,5,6,-1,-2,-3,-4,-5,0]\n",
    "pos_list = sorted(list(filter(lambda x:x>0,list_sort)))\n",
    "neg_list = sorted(list(filter(lambda x:x<0,list_sort)))\n"
   ]
  },
  {
   "cell_type": "code",
   "execution_count": 67,
   "id": "2718cf46-74a2-4d4f-a994-1c317640755e",
   "metadata": {},
   "outputs": [
    {
     "data": {
      "text/plain": [
       "[1, 2, 3, 4, 5, 6]"
      ]
     },
     "execution_count": 67,
     "metadata": {},
     "output_type": "execute_result"
    }
   ],
   "source": [
    "pos_list"
   ]
  },
  {
   "cell_type": "code",
   "execution_count": 68,
   "id": "2fcd46b2-bdb2-4451-b418-114f59e140fe",
   "metadata": {},
   "outputs": [
    {
     "data": {
      "text/plain": [
       "[-5, -4, -3, -2, -1]"
      ]
     },
     "execution_count": 68,
     "metadata": {},
     "output_type": "execute_result"
    }
   ],
   "source": [
    "neg_list"
   ]
  },
  {
   "cell_type": "code",
   "execution_count": 56,
   "id": "4d920b49-8114-4a59-93f1-2207ab14e227",
   "metadata": {},
   "outputs": [],
   "source": []
  },
  {
   "cell_type": "code",
   "execution_count": null,
   "id": "43fb9018-00be-493c-a7c0-b3e35b019ffe",
   "metadata": {},
   "outputs": [],
   "source": []
  }
 ],
 "metadata": {
  "kernelspec": {
   "display_name": "Python 3 (ipykernel)",
   "language": "python",
   "name": "python3"
  },
  "language_info": {
   "codemirror_mode": {
    "name": "ipython",
    "version": 3
   },
   "file_extension": ".py",
   "mimetype": "text/x-python",
   "name": "python",
   "nbconvert_exporter": "python",
   "pygments_lexer": "ipython3",
   "version": "3.10.8"
  }
 },
 "nbformat": 4,
 "nbformat_minor": 5
}
