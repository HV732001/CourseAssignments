{
 "cells": [
  {
   "cell_type": "code",
   "execution_count": 1,
   "id": "1cb777fe-73c8-417e-a99c-93a448180574",
   "metadata": {},
   "outputs": [],
   "source": [
    "#Q1 Create a python program to sort the given list of tuples values based on interger value using a lambda function?\n",
    "#[('Sachin Tendulkar',34357),(\"Ricky Ponting\",27483),('Jack Kallis',25534),('Virat Kohli',24936)]"
   ]
  },
  {
   "cell_type": "code",
   "execution_count": 4,
   "id": "9099fb0f-aee5-4bea-9223-3d248e5d2e03",
   "metadata": {},
   "outputs": [
    {
     "name": "stdout",
     "output_type": "stream",
     "text": [
      "[('Virat Kohli', 24936), ('Jack Kallis', 25534), ('Ricky Ponting', 27483), ('Sachin Tendulkar', 34357)]\n"
     ]
    }
   ],
   "source": [
    "#Answer Code -> \n",
    "list_tuple = [('Sachin Tendulkar',34357),(\"Ricky Ponting\",27483),('Jack Kallis',25534),('Virat Kohli',24936)]\n",
    "sorted_list = sorted(list_tuple, key=lambda x: x[1])\n",
    "print(sorted_list)"
   ]
  },
  {
   "cell_type": "code",
   "execution_count": 21,
   "id": "275f4de9-915e-40fa-a84d-72cd588fbd6f",
   "metadata": {},
   "outputs": [],
   "source": [
    "#Q2 Write a python program to find the squares of all the numbers in the given list of integers using lambda and map functions?"
   ]
  },
  {
   "cell_type": "code",
   "execution_count": 22,
   "id": "5f95bf4d-ab86-4227-80e9-520837118506",
   "metadata": {},
   "outputs": [],
   "source": [
    "#Answer Code \n",
    "list_num = [1,2,3,4,5,6,7,8,9,10]\n",
    "sq_num = list(map(lambda x:x**2 ,list_num))"
   ]
  },
  {
   "cell_type": "code",
   "execution_count": 23,
   "id": "3f2edc77-5f4a-4020-b3a7-750e8c86505a",
   "metadata": {},
   "outputs": [
    {
     "data": {
      "text/plain": [
       "[1, 4, 9, 16, 25, 36, 49, 64, 81, 100]"
      ]
     },
     "execution_count": 23,
     "metadata": {},
     "output_type": "execute_result"
    }
   ],
   "source": [
    "sq_num"
   ]
  },
  {
   "cell_type": "code",
   "execution_count": 1,
   "id": "3e63b9e6-6269-40d5-b2fe-ddd748226bda",
   "metadata": {},
   "outputs": [],
   "source": [
    "#Q3 Write a program to convert the given list of integer into tuple of strings use lambda and map function?\n"
   ]
  },
  {
   "cell_type": "code",
   "execution_count": 2,
   "id": "398665e6-3e62-460a-99ab-bdc3968f85be",
   "metadata": {},
   "outputs": [
    {
     "data": {
      "text/plain": [
       "('1', '2', '3', '4', '5', '6', '7', '8', '9', '10')"
      ]
     },
     "execution_count": 2,
     "metadata": {},
     "output_type": "execute_result"
    }
   ],
   "source": [
    "list_int = [1,2,3,4,5,6,7,8,9,10]\n",
    "tuple(map(lambda x : str(x) , list_int))"
   ]
  },
  {
   "cell_type": "code",
   "execution_count": 5,
   "id": "5971793c-569f-4d6e-aae2-d147ed69bf37",
   "metadata": {},
   "outputs": [],
   "source": [
    "#Q4 Write a python program using reduce function to compute the product of a list containing number from 1 to 25\n"
   ]
  },
  {
   "cell_type": "code",
   "execution_count": 12,
   "id": "b647c115-98a4-4e70-a437-ece8bb920594",
   "metadata": {},
   "outputs": [
    {
     "name": "stdout",
     "output_type": "stream",
     "text": [
      "The product is 15511210043330985984000000\n"
     ]
    }
   ],
   "source": [
    "#Answer\n",
    "from functools import reduce\n",
    "list_num = list(range(1,26))\n",
    "product_num = reduce(lambda x,y:x*y,list_num)\n",
    "print(f\"The product is {product_num}\")"
   ]
  },
  {
   "cell_type": "code",
   "execution_count": 13,
   "id": "90775e3c-6d36-456e-ba96-cf30552c38c0",
   "metadata": {},
   "outputs": [],
   "source": [
    "#Q5 Write a python program to filter number in given list which are divisible by 2or 3 using filter function"
   ]
  },
  {
   "cell_type": "code",
   "execution_count": 18,
   "id": "f045c012-0986-41ef-9774-18283a06f994",
   "metadata": {},
   "outputs": [
    {
     "data": {
      "text/plain": [
       "[2, 3, 6, 9, 27, 60, 90, 120, 46]"
      ]
     },
     "execution_count": 18,
     "metadata": {},
     "output_type": "execute_result"
    }
   ],
   "source": [
    "#Answer\n",
    "list_fil = [2,3,6,9,27,60,90,120,55,46]\n",
    "list(filter(lambda x: (x%2==0 or x%3==0), list_fil))"
   ]
  },
  {
   "cell_type": "code",
   "execution_count": 19,
   "id": "66800d81-c71b-4d8d-95bd-aed4adeea180",
   "metadata": {},
   "outputs": [],
   "source": [
    "#Q6 Write a python program to find palindrome in given list using lambda and filter function\n"
   ]
  },
  {
   "cell_type": "code",
   "execution_count": 27,
   "id": "c5fa0591-0488-4f7f-bf93-4f57c3d5d142",
   "metadata": {},
   "outputs": [
    {
     "name": "stdout",
     "output_type": "stream",
     "text": [
      "THE PALINDROME IN THE LIST ARE : \n"
     ]
    },
    {
     "data": {
      "text/plain": [
       "['php', 'aba', 'radar', 'level']"
      ]
     },
     "execution_count": 27,
     "metadata": {},
     "output_type": "execute_result"
    }
   ],
   "source": [
    "#Answer\n",
    "list_filter = [\"python\",\"php\",'aba','radar','level']\n",
    "print(\"THE PALINDROME IN THE LIST ARE : \")\n",
    "list(filter(lambda x: (x == x[::-1]), list_filter))"
   ]
  },
  {
   "cell_type": "code",
   "execution_count": null,
   "id": "4c8ce354-1a46-468f-b2c3-57e9fb39c937",
   "metadata": {},
   "outputs": [],
   "source": []
  }
 ],
 "metadata": {
  "kernelspec": {
   "display_name": "Python 3 (ipykernel)",
   "language": "python",
   "name": "python3"
  },
  "language_info": {
   "codemirror_mode": {
    "name": "ipython",
    "version": 3
   },
   "file_extension": ".py",
   "mimetype": "text/x-python",
   "name": "python",
   "nbconvert_exporter": "python",
   "pygments_lexer": "ipython3",
   "version": "3.10.8"
  }
 },
 "nbformat": 4,
 "nbformat_minor": 5
}
