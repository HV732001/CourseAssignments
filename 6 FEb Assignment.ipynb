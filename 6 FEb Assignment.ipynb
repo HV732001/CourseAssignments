{
 "cells": [
  {
   "cell_type": "code",
   "execution_count": 8,
   "id": "460d4d56-f07b-4961-acf2-53bfecf9472c",
   "metadata": {},
   "outputs": [],
   "source": [
    "#Q1. Create a function which will take a list as on argument and return the product of all the numbers\n",
    "#after creating a flat list.\n",
    "#use the below-given list as on argument for your function.\n",
    "\n",
    "#listl = [1,2,3,4, [44,55,66, True], False, (34,56,78,89,34), {1,2,3,3,2,1}, {1:34,\"key2\":[55, 67, 78, 89], 4: (45,\n",
    "#22, 61, 34)}, [56,'data science'],'Machine Learning']\n",
    "#Note: you must extract numeric keys and values of the dictionary also.\n"
   ]
  },
  {
   "cell_type": "code",
   "execution_count": 26,
   "id": "2734b335-da2c-4394-9d07-cc0a2f071e87",
   "metadata": {},
   "outputs": [],
   "source": [
    "#Answer \n",
    "from functools import reduce\n",
    "def task1(list_arg):\n",
    "    flat_list = []\n",
    "    for index in list_arg:\n",
    "        if type(index)==int:\n",
    "            flat_list.append(index)\n",
    "        elif type(index)==list or type(index) == set or type(index)==tuple:\n",
    "            for nex in index:\n",
    "                if type(nex)==int:\n",
    "                    flat_list.append(nex)\n",
    "        elif type(index)==dict:\n",
    "            for nex in index.keys():\n",
    "                if type(nex)==int:\n",
    "                    flat_list.append(nex)\n",
    "            for nex in index.values():\n",
    "                if type(nex)==int:\n",
    "                    flat_list.append(nex)\n",
    "                elif type(nex)==list or type(nex) ==set or type(nex)==tuple:\n",
    "                    for n in nex:\n",
    "                        if type(n)==int:\n",
    "                            flat_list.append(n)    \n",
    "    print(flat_list)\n",
    "    product = reduce(lambda x,y:x*y,flat_list)\n",
    "    return product"
   ]
  },
  {
   "cell_type": "code",
   "execution_count": 30,
   "id": "3e070915-36d1-459c-9ca7-9d4e88f13260",
   "metadata": {},
   "outputs": [
    {
     "name": "stdout",
     "output_type": "stream",
     "text": [
      "[1, 2, 3, 4, 44, 55, 66, 34, 56, 78, 89, 34, 1, 2, 3, 1, 4, 34, 55, 67, 78, 89, 45, 22, 61, 34, 56]\n",
      "The product of flat list is 4134711838987085478833841242112000\n"
     ]
    }
   ],
   "source": [
    "list_q = [1,2,3,4, [44,55,66, True], False, (34,56,78,89,34), {1,2,3,3,2,1}, {1:34,\"key2\":[55, 67, 78, 89], 4: (45,22, 61, 34)}, [56,'data science'],'Machine Learning']\n",
    "ret = task1(list_q)\n",
    "print(f\"The product of flat list is {ret}\")"
   ]
  },
  {
   "cell_type": "code",
   "execution_count": 31,
   "id": "df4f74ad-be46-412a-88bb-b9f66de7c819",
   "metadata": {},
   "outputs": [],
   "source": [
    "#Q2 Write a python program for encrypting a message sent to you by your friend. The logic of encryption should be such thot, for a the output should be z. For b, the output should be y. For c, the output should be x respectively. Also, the whitespoce should be replaced with a dollar sign. Keep the punctuation marks unchanged.\n",
    "\n",
    "#Input Sentence: I want to become a Data Scientist.\n",
    "#Encrypt the above input sentence using the program you just created.\n"
   ]
  },
  {
   "cell_type": "code",
   "execution_count": 55,
   "id": "f8fd5699-8fd5-4729-9f97-db5ff1a99172",
   "metadata": {},
   "outputs": [],
   "source": [
    "#Answer\n",
    "import string\n",
    "\n",
    "\n",
    "def encrypt(arg):\n",
    "    list_arg =[]\n",
    "    arg = arg.lower()\n",
    "    alphabet = list(string.ascii_lowercase)\n",
    "    for index in arg:\n",
    "        if index==' ':\n",
    "            list_arg.append('$')\n",
    "        elif index in alphabet:\n",
    "            list_arg.append(alphabet[len(alphabet)-alphabet.index(index)-1])            \n",
    "        else:\n",
    "            list_arg.append(index)\n",
    "    str_ret = ''.join(list_arg)\n",
    "    return str_ret\n",
    "            \n",
    "    \n",
    "    "
   ]
  },
  {
   "cell_type": "code",
   "execution_count": 56,
   "id": "6825149e-5364-4b79-b887-86c0aa3dd158",
   "metadata": {},
   "outputs": [
    {
     "name": "stdout",
     "output_type": "stream",
     "text": [
      "r$dzmg$gl$yvxlnv$z$wzgz$hxrvmgrhg.\n"
     ]
    }
   ],
   "source": [
    "str_q = 'I want to become a Data Scientist.'\n",
    "encrypted_string = encrypt(str_q)\n",
    "print(encrypted_string)"
   ]
  },
  {
   "cell_type": "code",
   "execution_count": null,
   "id": "3838b7c0-a83e-46ce-bb09-49b6b16fcba2",
   "metadata": {},
   "outputs": [],
   "source": []
  }
 ],
 "metadata": {
  "kernelspec": {
   "display_name": "Python 3 (ipykernel)",
   "language": "python",
   "name": "python3"
  },
  "language_info": {
   "codemirror_mode": {
    "name": "ipython",
    "version": 3
   },
   "file_extension": ".py",
   "mimetype": "text/x-python",
   "name": "python",
   "nbconvert_exporter": "python",
   "pygments_lexer": "ipython3",
   "version": "3.10.8"
  }
 },
 "nbformat": 4,
 "nbformat_minor": 5
}
