{
 "cells": [
  {
   "cell_type": "code",
   "execution_count": 1,
   "id": "753f1f16-5ae3-4a72-b3c7-e4f1c364d39e",
   "metadata": {},
   "outputs": [],
   "source": [
    "#Q1 Which keyword is used to create a function? Write a function to return a list of odd number in the range of 1 to 25?"
   ]
  },
  {
   "cell_type": "code",
   "execution_count": 2,
   "id": "02e9efd5-dc93-48e4-a3e5-f96a0c636112",
   "metadata": {},
   "outputs": [],
   "source": [
    "#answer-> \"def\" keyword is used to create a function\n",
    "def odd_return():\n",
    "    return [index for index in range(1,26) if index%2 != 0] "
   ]
  },
  {
   "cell_type": "code",
   "execution_count": 3,
   "id": "307e5087-ace2-4391-8e70-0950f33c6abd",
   "metadata": {},
   "outputs": [
    {
     "data": {
      "text/plain": [
       "[1, 3, 5, 7, 9, 11, 13, 15, 17, 19, 21, 23, 25]"
      ]
     },
     "execution_count": 3,
     "metadata": {},
     "output_type": "execute_result"
    }
   ],
   "source": [
    "odd_return()"
   ]
  },
  {
   "cell_type": "code",
   "execution_count": 4,
   "id": "b72590e7-a0ee-4aa5-92a7-0bdfce76ae28",
   "metadata": {},
   "outputs": [],
   "source": [
    "#Q2 Why *args and **kwargs are used in some function?Create  afunction each for *args and **kwargs to demonstrate their use?"
   ]
  },
  {
   "cell_type": "code",
   "execution_count": 6,
   "id": "7dc6b2a7-6aa4-4f2e-9725-d0f8e8761f9e",
   "metadata": {},
   "outputs": [
    {
     "name": "stdout",
     "output_type": "stream",
     "text": [
      "1\n",
      "2\n",
      "3\n",
      "4\n",
      "a: 1\n",
      "b: 2\n",
      "c: 3\n"
     ]
    }
   ],
   "source": [
    "#Answer code \n",
    "#*args and **kwargs are used in Python functions to allow for a flexible number of arguments to be passed to the function.\n",
    "\n",
    "#*args is used to send a non-keyworded variable length argument list to the function. It is essentially a tuple of arguments that can be passed to a function.\n",
    "\n",
    "#Args example\n",
    "def my_function(*args):\n",
    "    for arg in args:\n",
    "        print(arg)\n",
    "\n",
    "my_function(1, 2, 3, 4)\n",
    "#**kwargs is used to pass keyworded variable length of arguments to a function. It allows you to pass keyworded arguments to a function as a dictionary. For example:\n",
    "\n",
    "def my_function(**kwargs):\n",
    "    for key, value in kwargs.items():\n",
    "        print(f\"{key}: {value}\")\n",
    "\n",
    "my_function(a=1, b=2, c=3)\n"
   ]
  },
  {
   "cell_type": "code",
   "execution_count": 1,
   "id": "25d2f431-8bff-4420-b9a5-4ffcab30376a",
   "metadata": {},
   "outputs": [],
   "source": [
    "#Q3 What is an iterator in python?Name the methods used to initialise the iterator object and the method used for iteration?\n",
    "#Using this method print the first five element of given list?[2,4,6,8,10,12,14,16,18,20]"
   ]
  },
  {
   "cell_type": "code",
   "execution_count": 17,
   "id": "458fccac-fc67-42ad-906e-247c9d7c0a2b",
   "metadata": {},
   "outputs": [
    {
     "name": "stdout",
     "output_type": "stream",
     "text": [
      "2\n",
      "4\n",
      "6\n",
      "8\n",
      "10\n"
     ]
    }
   ],
   "source": [
    "#Answer -> Iterator in python are those that can be iterated(looped)like list,set,tupleetc.\n",
    "#The __iter__ method is used to initialise the iterator object.\n",
    "#The method used for iteration is __next__ method and it run util it encounters  This method is called repeatedly until it raises the StopIteration exception, signaling that there are no more items in the sequence.\n",
    "qlist =[2,4,6,8,10,12,14,16,18,20]\n",
    "qlist_iter = iter(qlist)\n",
    "# Print the first five elements using the next function\n",
    "for i in range(5):\n",
    "    print(next(qlist_iter))"
   ]
  },
  {
   "cell_type": "code",
   "execution_count": 1,
   "id": "066d8fc7-87cf-46fd-87d1-48cf643caa52",
   "metadata": {},
   "outputs": [],
   "source": [
    "#Q4 What is generator function in python ?Why yield keyword is used ?Give an example of generator function?"
   ]
  },
  {
   "cell_type": "code",
   "execution_count": 2,
   "id": "bfaf3c05-6464-4cdf-814d-0cfa416e570f",
   "metadata": {},
   "outputs": [],
   "source": [
    "#Answer A generator function in Python is a special kind of function that can be used to generate an iterator. The main difference between a generator function and a normal function is that a generator function uses the yield keyword instead of return to return a value.\n",
    "#Each time a generator function is called, it returns a generator object, which can be iterated over. When the generator object is iterated, the code inside the generator function is executed until the yield statement is encountered, at which point the value following yield is returned. \n",
    "\n",
    "def generator_example(count):\n",
    "    n= 0\n",
    "    while count>=n:\n",
    "        yield n\n",
    "        n = n+1"
   ]
  },
  {
   "cell_type": "code",
   "execution_count": 3,
   "id": "c502830e-271c-40b5-8ad3-85f0bec55db7",
   "metadata": {},
   "outputs": [
    {
     "name": "stdout",
     "output_type": "stream",
     "text": [
      "0\n",
      "1\n",
      "2\n",
      "3\n",
      "4\n",
      "5\n"
     ]
    }
   ],
   "source": [
    "gen = generator_example(5)\n",
    "for i in gen:\n",
    "    print(i)"
   ]
  },
  {
   "cell_type": "code",
   "execution_count": 52,
   "id": "b68da6d3-7df8-4468-a2b0-c0a5e486a94a",
   "metadata": {},
   "outputs": [],
   "source": [
    "#Q5 Create a generator function for prime number less than 1000?Use the next method to print the first 20 primenumber?"
   ]
  },
  {
   "cell_type": "code",
   "execution_count": 1,
   "id": "46cc333a-4e5e-4677-99a4-f71813928a61",
   "metadata": {},
   "outputs": [
    {
     "name": "stdout",
     "output_type": "stream",
     "text": [
      "2\n",
      "3\n",
      "5\n",
      "7\n",
      "11\n",
      "13\n",
      "17\n",
      "19\n",
      "23\n",
      "29\n",
      "31\n",
      "37\n",
      "41\n",
      "43\n",
      "47\n",
      "53\n",
      "59\n",
      "61\n",
      "67\n",
      "71\n"
     ]
    }
   ],
   "source": [
    "#Answer \n",
    "def prime_numbers_generator(limit):\n",
    "    prime_list = []\n",
    "    for number in range(2, 1001):\n",
    "        for i in range(2, int(number ** 0.5) + 1):\n",
    "            if number % i == 0:\n",
    "                break\n",
    "        else:\n",
    "            prime_list.append(number)\n",
    "    for i in range(limit):\n",
    "        if len(prime_list) > i:\n",
    "            yield prime_list[i]\n",
    "        else:\n",
    "            yield \"Sorry Limit Reached\"\n",
    "\n",
    "# usage example\n",
    "prime_gen = prime_numbers_generator(20)\n",
    "for prime in range(20):\n",
    "    print(next(prime_gen))\n",
    "\n",
    "        \n",
    "        "
   ]
  },
  {
   "cell_type": "code",
   "execution_count": null,
   "id": "ee247312-815f-48f8-b419-c187e6c9f02a",
   "metadata": {},
   "outputs": [],
   "source": [
    "\n"
   ]
  },
  {
   "cell_type": "code",
   "execution_count": 27,
   "id": "5813b09b-29f4-41ab-807d-94caecaf45b6",
   "metadata": {},
   "outputs": [],
   "source": [
    "#Q6 Write a python program to print the first 10 fibonnaci number using while loop"
   ]
  },
  {
   "cell_type": "code",
   "execution_count": 29,
   "id": "3d8f3469-a556-4504-8c71-d66b0af49194",
   "metadata": {},
   "outputs": [
    {
     "name": "stdout",
     "output_type": "stream",
     "text": [
      "The fibbonacci number at 1 place is 1\n",
      "The fibbonacci number at 2 place is 2\n",
      "The fibbonacci number at 3 place is 3\n",
      "The fibbonacci number at 4 place is 5\n",
      "The fibbonacci number at 5 place is 8\n",
      "The fibbonacci number at 6 place is 13\n",
      "The fibbonacci number at 7 place is 21\n",
      "The fibbonacci number at 8 place is 34\n",
      "The fibbonacci number at 9 place is 55\n",
      "The fibbonacci number at 10 place is 89\n"
     ]
    }
   ],
   "source": [
    "#Answer \n",
    "limit_count = 0\n",
    "a = 0\n",
    "b = 1\n",
    "c = 0\n",
    "while limit_count<10:\n",
    "    c =a+b\n",
    "    print(f\"The fibbonacci number at {limit_count+1} place is {c}\")\n",
    "    a = b\n",
    "    b = c\n",
    "    limit_count = limit_count +1"
   ]
  },
  {
   "cell_type": "code",
   "execution_count": 30,
   "id": "bcbe4ac8-a56a-4142-b2f6-57aae4d4f491",
   "metadata": {},
   "outputs": [],
   "source": [
    "#Q7 Write a list Comprehension to iterate through given string \"pwskills\""
   ]
  },
  {
   "cell_type": "code",
   "execution_count": 31,
   "id": "a673b1c7-1623-4b44-97aa-6dcbe991bc27",
   "metadata": {},
   "outputs": [
    {
     "data": {
      "text/plain": [
       "['p', 'w', 's', 'k', 'i', 'l', 'l', 's']"
      ]
     },
     "execution_count": 31,
     "metadata": {},
     "output_type": "execute_result"
    }
   ],
   "source": [
    "#Answqer \n",
    "string = \"pwskills\"\n",
    "[i for i in string]"
   ]
  },
  {
   "cell_type": "code",
   "execution_count": 32,
   "id": "c0288024-3ec5-454c-a808-ebd1fcac7161",
   "metadata": {},
   "outputs": [],
   "source": [
    "#Q8 Write a program to check whether a given number is palindrome or not using while loop\n"
   ]
  },
  {
   "cell_type": "code",
   "execution_count": 42,
   "id": "c60e0f76-dcb1-470b-8757-7a4687e5ca43",
   "metadata": {},
   "outputs": [
    {
     "name": "stdin",
     "output_type": "stream",
     "text": [
      "Give a number :  1000001\n"
     ]
    },
    {
     "name": "stdout",
     "output_type": "stream",
     "text": [
      "The number is a palindrome\n"
     ]
    }
   ],
   "source": [
    "#Answer \n",
    "num_inp = int(input(\"Give a number : \"))\n",
    "count = 0\n",
    "flag = 0\n",
    "while count<(len(str(num_inp))):\n",
    "    if str(num_inp)[count] != str(num_inp)[len(str(num_inp)) - count-1]:\n",
    "        break\n",
    "    count = count+1    \n",
    "else:\n",
    "    flag =1\n",
    "if (flag == 1):\n",
    "    print(\"The number is a palindrome\")\n",
    "else:\n",
    "    print(\"The number is not a palindrome\") \n",
    "    "
   ]
  },
  {
   "cell_type": "code",
   "execution_count": 43,
   "id": "890ee129-41c1-4e6a-ab68-82aec722d367",
   "metadata": {},
   "outputs": [],
   "source": [
    "#Q9 Write a program to print odd number from 1 to 100 using list comprehension"
   ]
  },
  {
   "cell_type": "code",
   "execution_count": 46,
   "id": "27a6c21f-7c6b-4117-97a3-b8137f2f2e12",
   "metadata": {},
   "outputs": [
    {
     "data": {
      "text/plain": [
       "[1,\n",
       " 3,\n",
       " 5,\n",
       " 7,\n",
       " 9,\n",
       " 11,\n",
       " 13,\n",
       " 15,\n",
       " 17,\n",
       " 19,\n",
       " 21,\n",
       " 23,\n",
       " 25,\n",
       " 27,\n",
       " 29,\n",
       " 31,\n",
       " 33,\n",
       " 35,\n",
       " 37,\n",
       " 39,\n",
       " 41,\n",
       " 43,\n",
       " 45,\n",
       " 47,\n",
       " 49,\n",
       " 51,\n",
       " 53,\n",
       " 55,\n",
       " 57,\n",
       " 59,\n",
       " 61,\n",
       " 63,\n",
       " 65,\n",
       " 67,\n",
       " 69,\n",
       " 71,\n",
       " 73,\n",
       " 75,\n",
       " 77,\n",
       " 79,\n",
       " 81,\n",
       " 83,\n",
       " 85,\n",
       " 87,\n",
       " 89,\n",
       " 91,\n",
       " 93,\n",
       " 95,\n",
       " 97,\n",
       " 99]"
      ]
     },
     "execution_count": 46,
     "metadata": {},
     "output_type": "execute_result"
    }
   ],
   "source": [
    "#Answer\n",
    "[i for i in range(1,101) if i %2!=0] "
   ]
  },
  {
   "cell_type": "code",
   "execution_count": null,
   "id": "e1b873d5-2c2f-4659-8ca2-5789e553ded9",
   "metadata": {},
   "outputs": [],
   "source": []
  }
 ],
 "metadata": {
  "kernelspec": {
   "display_name": "Python 3 (ipykernel)",
   "language": "python",
   "name": "python3"
  },
  "language_info": {
   "codemirror_mode": {
    "name": "ipython",
    "version": 3
   },
   "file_extension": ".py",
   "mimetype": "text/x-python",
   "name": "python",
   "nbconvert_exporter": "python",
   "pygments_lexer": "ipython3",
   "version": "3.10.8"
  }
 },
 "nbformat": 4,
 "nbformat_minor": 5
}
