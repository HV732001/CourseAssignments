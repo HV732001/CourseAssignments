{
 "cells": [
  {
   "cell_type": "code",
   "execution_count": 9,
   "id": "43571dd5-df46-4766-91bc-344ad9fc4d3c",
   "metadata": {},
   "outputs": [],
   "source": [
    "#Q1-> Write a program to accept percentage from user and display the grade according to following criteria?\n",
    "# Marks          Grade \n",
    "# >90             A\n",
    "# >80 and <=90    B\n",
    "# >=60 and <=80   C\n",
    "# below 60        D"
   ]
  },
  {
   "cell_type": "code",
   "execution_count": 7,
   "id": "1d6dabef-45f6-4da3-baec-144af1f07d04",
   "metadata": {},
   "outputs": [
    {
     "name": "stdin",
     "output_type": "stream",
     "text": [
      "Give the Percentage :  40\n"
     ]
    },
    {
     "name": "stdout",
     "output_type": "stream",
     "text": [
      "Grade D\n"
     ]
    }
   ],
   "source": [
    "#Answer Code 1\n",
    "crit_percentage = int(input(\"Give the Percentage : \"))\n",
    "if (crit_percentage>90):\n",
    "    print(f\"Grade A\")\n",
    "elif (crit_percentage >80 and crit_percentage<=90):\n",
    "    print(f\"Grade B\")\n",
    "elif (crit_percentage>=60 and crit_percentage<=80):\n",
    "    print(f\"Grade C\")\n",
    "else:\n",
    "    print(f\"Grade D\")"
   ]
  },
  {
   "cell_type": "code",
   "execution_count": 11,
   "id": "14dd359d-4e51-4fdf-8185-fa19d8c53858",
   "metadata": {},
   "outputs": [],
   "source": [
    "#Q2 Write a program to accept the cost price of a bike and display the road tax to be paid according to the following criteria?\n",
    "# Tax    Cost Price(in Rs)\n",
    "# 15%    >100000\n",
    "# 10%    >50000 and <= 100000\n",
    "# 5%     <=50000"
   ]
  },
  {
   "cell_type": "code",
   "execution_count": 20,
   "id": "b7dc4164-5963-4568-a109-381e3b140c5b",
   "metadata": {},
   "outputs": [
    {
     "name": "stdin",
     "output_type": "stream",
     "text": [
      "Please give the input Cost Price :  2000\n"
     ]
    },
    {
     "name": "stdout",
     "output_type": "stream",
     "text": [
      "The Tax to be paid for 2000Rs is : 5%\n"
     ]
    }
   ],
   "source": [
    "#Answer Code 2\n",
    "inp_cost = int(input('Please give the input Cost Price : '))\n",
    "if (inp_cost > 100000):\n",
    "    print(f\"The Tax to be paid for cost {inp_cost}Rs is  : 15%\")\n",
    "elif (inp_cost > 50000 and inp_cost <= 100000):\n",
    "    print(f\"The Tax to be paid for cost {inp_cost}Rs is : 10%\")\n",
    "else:\n",
    "    print(f\"The Tax to be paid for {inp_cost}Rs is : 5%\")"
   ]
  },
  {
   "cell_type": "code",
   "execution_count": 14,
   "id": "2aa1f137-e4bf-4552-944b-c49443ecce6c",
   "metadata": {},
   "outputs": [],
   "source": [
    "#Accept any City From user and Display monuments of that city\n",
    "# City     Monument\n",
    "# Delhi    Red Fort \n",
    "# Agra     Taj Mahal \n",
    "# Jaipur   Jal Mahal\n"
   ]
  },
  {
   "cell_type": "code",
   "execution_count": 17,
   "id": "3736cf40-b6f2-4be1-a664-fc965a0583d9",
   "metadata": {},
   "outputs": [
    {
     "name": "stdin",
     "output_type": "stream",
     "text": [
      "Please give the city name :  delhi\n"
     ]
    },
    {
     "name": "stdout",
     "output_type": "stream",
     "text": [
      "The Monument in city Delhi is : Red Fort\n"
     ]
    }
   ],
   "source": [
    "#Answer Code 3\n",
    "inp_city = input('Please give the city name : ')\n",
    "inp_city = inp_city.capitalize()\n",
    "if inp_city == 'Delhi':\n",
    "    print(f\"The Monument in city {inp_city} is : Red Fort\")\n",
    "elif inp_city == 'Agra':\n",
    "    print(f\"The Monument in city {inp_city} is : Taj Mahal\")\n",
    "elif inp_city == 'Jaipur':\n",
    "    print(f\"The Monument in city {inp_city} is : Jal Mahal\")\n",
    "else:\n",
    "    print(f\"There is no Monument in city {inp_city}\")\n",
    "    "
   ]
  },
  {
   "cell_type": "code",
   "execution_count": 21,
   "id": "88df1f30-0c0f-415e-a5fe-27c2a3e3eff1",
   "metadata": {},
   "outputs": [],
   "source": [
    "#Q4 -> Check How Many Times A given Number is divided by 3 before it is less than or equal to 10?"
   ]
  },
  {
   "cell_type": "code",
   "execution_count": 27,
   "id": "ba2ad18a-a389-48c0-8a69-896c4c682a09",
   "metadata": {},
   "outputs": [
    {
     "name": "stdin",
     "output_type": "stream",
     "text": [
      "Input The Number :  999\n"
     ]
    },
    {
     "name": "stdout",
     "output_type": "stream",
     "text": [
      "The number of times the input number 999 is divisible by 3 is : 5\n"
     ]
    }
   ],
   "source": [
    "#Answer Code 4\n",
    "inp_num = int(input('Input The Number : '))\n",
    "inp_num_copy = inp_num\n",
    "div_counter = 0\n",
    "while(inp_num >10):\n",
    "    inp_num = (inp_num/3)\n",
    "    div_counter = div_counter + 1\n",
    "    \n",
    "print(f\"The number of times the input number {inp_num_copy} is divisible by 3 is : {div_counter}\")     \n",
    "\n",
    "                    \n"
   ]
  },
  {
   "cell_type": "code",
   "execution_count": 28,
   "id": "ed02d75d-7260-4504-aaad-1af9c8e3980e",
   "metadata": {},
   "outputs": [],
   "source": [
    "#Q5 -> Why and When to use \"While\" loop in python give a detailed description with example?\n",
    "\n"
   ]
  },
  {
   "cell_type": "code",
   "execution_count": 1,
   "id": "f715ff11-f0e1-415f-9952-8e4941535ee4",
   "metadata": {},
   "outputs": [
    {
     "name": "stdout",
     "output_type": "stream",
     "text": [
      "While Loop Description\n",
      "While Loop Description\n",
      "While Loop Description\n",
      "While Loop Description\n",
      "While Loop Description\n",
      "While Loop Description\n",
      "While Loop Description\n",
      "While Loop Description\n",
      "While Loop Description\n",
      "While Loop Description\n"
     ]
    }
   ],
   "source": [
    "#Answer-->Python While Loop is used to execute a block of statements repeatedly until a given condition is satisfied. And when the condition becomes false, the line immediately after the loop in the program is executed\n",
    "#Description\n",
    "#To Print a statement repeatedly Until the count is less than 10\n",
    "count = 0;\n",
    "while(count<10):\n",
    "    count=count+1;\n",
    "    print(\"While Loop Description\")\n"
   ]
  },
  {
   "cell_type": "code",
   "execution_count": 2,
   "id": "01f33277-4037-46a7-9039-89e533e10ae7",
   "metadata": {},
   "outputs": [],
   "source": [
    "#Q6 Use nested While loop to print 3 different pattern"
   ]
  },
  {
   "cell_type": "code",
   "execution_count": 4,
   "id": "25d6c948-341c-437e-973b-9c31391ed814",
   "metadata": {},
   "outputs": [
    {
     "name": "stdout",
     "output_type": "stream",
     "text": [
      "$$$\n",
      "$$$$\n",
      "\n",
      "*\n",
      "**\n",
      "***\n",
      "****\n",
      "\n",
      "&\n",
      "&&\n",
      "&&&\n",
      "&&&&\n"
     ]
    }
   ],
   "source": [
    "#Answer Code\n",
    "import random\n",
    "i = random.randint(0,5)\n",
    "j = random.randint(0,5)\n",
    "li = [\"#\", \"@\", \"$\",\"*\",\"&\"]\n",
    "while (i < 5):\n",
    "    #print(f\"pattern{i+1}\")\n",
    "    while (j < 5):\n",
    "        pattern= li[i]\n",
    "        print(pattern*j)\n",
    "        j = j + 1    \n",
    "    i = i + 1\n",
    "    j=0\n"
   ]
  },
  {
   "cell_type": "code",
   "execution_count": 5,
   "id": "5c4c9743-00b4-47f1-8e08-40f607c68b6b",
   "metadata": {},
   "outputs": [],
   "source": [
    "#Q7 Reverese a while loop to display number from 10 to 1?"
   ]
  },
  {
   "cell_type": "code",
   "execution_count": 6,
   "id": "4c9498dc-1746-41ae-bb13-86c5112bff73",
   "metadata": {},
   "outputs": [
    {
     "name": "stdout",
     "output_type": "stream",
     "text": [
      "10\n",
      "9\n",
      "8\n",
      "7\n",
      "6\n",
      "5\n",
      "4\n",
      "3\n",
      "2\n",
      "1\n"
     ]
    }
   ],
   "source": [
    "#Answer Code\n",
    "i=10\n",
    "while(i>0):\n",
    "    print(i)\n",
    "    i=i-1"
   ]
  },
  {
   "cell_type": "code",
   "execution_count": 7,
   "id": "747f4ebf-11a6-4293-92eb-1258de221e79",
   "metadata": {},
   "outputs": [],
   "source": [
    "#Q8 Reverese a while loop to display number from 10 to 1?"
   ]
  },
  {
   "cell_type": "code",
   "execution_count": 8,
   "id": "e518a45d-ff47-4558-bcf1-606bbd8f8be2",
   "metadata": {},
   "outputs": [
    {
     "name": "stdout",
     "output_type": "stream",
     "text": [
      "10\n",
      "9\n",
      "8\n",
      "7\n",
      "6\n",
      "5\n",
      "4\n",
      "3\n",
      "2\n",
      "1\n"
     ]
    }
   ],
   "source": [
    "#Answer Code\n",
    "i=10\n",
    "while(i>0):\n",
    "    print(i)\n",
    "    i=i-1"
   ]
  },
  {
   "cell_type": "code",
   "execution_count": null,
   "id": "58763cd9-400c-43ec-8341-f7e2299c3ca4",
   "metadata": {},
   "outputs": [],
   "source": []
  }
 ],
 "metadata": {
  "kernelspec": {
   "display_name": "Python 3 (ipykernel)",
   "language": "python",
   "name": "python3"
  },
  "language_info": {
   "codemirror_mode": {
    "name": "ipython",
    "version": 3
   },
   "file_extension": ".py",
   "mimetype": "text/x-python",
   "name": "python",
   "nbconvert_exporter": "python",
   "pygments_lexer": "ipython3",
   "version": "3.10.8"
  }
 },
 "nbformat": 4,
 "nbformat_minor": 5
}
