{
 "cells": [
  {
   "cell_type": "code",
   "execution_count": 3,
   "id": "744d96c3-eaf1-4a4a-a9f6-bb98eca83c92",
   "metadata": {},
   "outputs": [],
   "source": [
    "#Q1 Explain with an example when to use for loop and while loop"
   ]
  },
  {
   "cell_type": "code",
   "execution_count": 4,
   "id": "03689d0e-a09a-435d-bf71-1fe43324e4b5",
   "metadata": {},
   "outputs": [
    {
     "name": "stdout",
     "output_type": "stream",
     "text": [
      "1\n",
      "2\n",
      "3\n",
      "4\n",
      "5\n",
      "1\n",
      "2\n",
      "3\n",
      "4\n",
      "5\n"
     ]
    }
   ],
   "source": [
    "#Answer-> A for loop is used to iterate over a sequence(tuple,list,set,dict etc) and for each iteration a block of code is executed \n",
    "#The loop continues until all the item of sequence is processed.\n",
    "#Here's an example of a for loop that prints the numbers 1 to 5:\n",
    "\n",
    "for i in range(1, 6):\n",
    "    print(i)\n",
    "\n",
    "#A while loop, on the other hand, is used when you want to repeatedly execute a block of code as long as a certain condition is true. The loop continues until the condition becomes false.\n",
    "\n",
    "#Here's an example of a while loop that prints the numbers 1 to 5:\n",
    "\n",
    "i = 1\n",
    "while i <= 5:\n",
    "    print(i)\n",
    "    i += 1"
   ]
  },
  {
   "cell_type": "code",
   "execution_count": 5,
   "id": "364b3386-d12d-4a11-96e8-759995ed7fec",
   "metadata": {},
   "outputs": [],
   "source": [
    "#Q2 Write a program to print the sum and product of first 10 natural number using for and while loop?"
   ]
  },
  {
   "cell_type": "code",
   "execution_count": 11,
   "id": "0dfe9e89-8c87-4387-a589-5644d301ae33",
   "metadata": {},
   "outputs": [
    {
     "name": "stdout",
     "output_type": "stream",
     "text": [
      "Sum and product of first 10 natural number using for loop\n",
      "55\n",
      "3628800\n",
      "Sum and product of first 10 natural number using while loop\n",
      "55\n",
      "3628800\n"
     ]
    }
   ],
   "source": [
    "#Answer Code\n",
    "print(\"Sum and product of first 10 natural number using for loop\")\n",
    "sum_num = 0\n",
    "product_num = 1\n",
    "for i in range(0,10):\n",
    "    sum_num =sum_num + (i+1)\n",
    "    product_num = product_num * (i+1)\n",
    "print(sum_num)\n",
    "print(product_num)\n",
    "print('Sum and product of first 10 natural number using while loop')\n",
    "sum_num =0\n",
    "product_num = 1\n",
    "i=0\n",
    "while(i<10):\n",
    "    sum_num =sum_num + (i+1)\n",
    "    product_num = product_num * (i+1)\n",
    "    i = i+1\n",
    "print(sum_num)\n",
    "print(product_num)    \n",
    "    "
   ]
  },
  {
   "cell_type": "code",
   "execution_count": 12,
   "id": "84670ec9-bf2d-4f0d-a4fe-79dd1598bd68",
   "metadata": {},
   "outputs": [],
   "source": [
    "#Q3 Create a python program to compute the electricity bill of household\n",
    "#The per unit charges in rupees are as follows: For the first 100 unit the user will be charged Rs 4.5 per month\n",
    "#For the next 100 unit the user will be charged Rs 6 per unit\n",
    "#For the next 100 unit the user will be charged Rs 10 per unit\n",
    "#After 300 unit user will be charged \n",
    "#You are required to take the units of electricity taken by user as a input\n"
   ]
  },
  {
   "cell_type": "code",
   "execution_count": 33,
   "id": "2d6ded55-d26f-4242-ad36-50d312dc8056",
   "metadata": {},
   "outputs": [
    {
     "name": "stdin",
     "output_type": "stream",
     "text": [
      "Give the monthly unit number 310\n"
     ]
    },
    {
     "name": "stdout",
     "output_type": "stream",
     "text": [
      "The monthly electricity bill is : 2250.0\n"
     ]
    }
   ],
   "source": [
    "#Answer Code\n",
    "unit_inp = int(input(\"Give the monthly unit number\"))\n",
    "amount = 0;\n",
    "for index in range(1,unit_inp+1):\n",
    "    if index<=100:\n",
    "        amount = amount + 4.5\n",
    "    elif (index >100 and index <=200):\n",
    "        amount = amount + 6\n",
    "    elif (index >200 and index <=300):\n",
    "        amount = amount + 10\n",
    "    elif(index>300):\n",
    "        amount = amount + 20    \n",
    "else:\n",
    "    print(f\"The monthly electricity bill is : {amount}\")\n",
    "              \n",
    "              \n",
    "        \n"
   ]
  },
  {
   "cell_type": "code",
   "execution_count": null,
   "id": "98cb8ecb-b0a6-4845-af1b-f4c4bba56110",
   "metadata": {},
   "outputs": [],
   "source": [
    "#Create a list of number from 1 to 100.Use a for loop and while loop to calculate the cube of each number and if the cube of that number \n",
    "#is divisible by 4 or 5 then append it in a list and print that list"
   ]
  },
  {
   "cell_type": "code",
   "execution_count": 40,
   "id": "48e38893-359d-430a-8253-95818d8938bf",
   "metadata": {},
   "outputs": [
    {
     "name": "stdout",
     "output_type": "stream",
     "text": [
      "Using For loop.\n",
      "[2, 4, 5, 6, 8, 10, 12, 14, 15, 16, 18, 20, 22, 24, 25, 26, 28, 30, 32, 34, 35, 36, 38, 40, 42, 44, 45, 46, 48, 50, 52, 54, 55, 56, 58, 60, 62, 64, 65, 66, 68, 70, 72, 74, 75, 76, 78, 80, 82, 84, 85, 86, 88, 90, 92, 94, 95, 96, 98, 100]\n",
      "Using While loop.\n",
      "[2, 4, 5, 6, 8, 10, 12, 14, 15, 16, 18, 20, 22, 24, 25, 26, 28, 30, 32, 34, 35, 36, 38, 40, 42, 44, 45, 46, 48, 50, 52, 54, 55, 56, 58, 60, 62, 64, 65, 66, 68, 70, 72, 74, 75, 76, 78, 80, 82, 84, 85, 86, 88, 90, 92, 94, 95, 96, 98, 100]\n"
     ]
    }
   ],
   "source": [
    "#Answer Code\n",
    "print(\"Using For loop.\")\n",
    "list_num = list(range(1,101))\n",
    "list_val = []\n",
    "for index in range(len(list_num)):\n",
    "    cube_val = list_num[index] **3\n",
    "    if ((cube_val%4==0)or(cube_val%5==0)):\n",
    "        list_val.append(list_num[index])\n",
    "print(list_val)        \n",
    "print(\"Using While loop.\")\n",
    "list_val.clear()\n",
    "index = 0\n",
    "while(index<len(list_num)):\n",
    "    cube_val = list_num[index] **3\n",
    "    if ((cube_val%4==0)or(cube_val%5==0)):\n",
    "        list_val.append(list_num[index])\n",
    "    index = index+1  \n",
    "print(list_val)"
   ]
  },
  {
   "cell_type": "code",
   "execution_count": 42,
   "id": "a5808ff9-c300-42f7-a0cd-92f8889b483f",
   "metadata": {},
   "outputs": [],
   "source": [
    "#Q5 Write a program to filter count the vowels in the below given string \n",
    "#string =\"I want to become a data scientist\""
   ]
  },
  {
   "cell_type": "code",
   "execution_count": 47,
   "id": "101e092b-5ef4-43f0-b4cf-e96e077b1df1",
   "metadata": {},
   "outputs": [
    {
     "name": "stdout",
     "output_type": "stream",
     "text": [
      "The number of vowel in given string is 12\n"
     ]
    }
   ],
   "source": [
    "#Answer code\n",
    "string =\"I want to become a data scientist\"\n",
    "count = 0\n",
    "for index in string:\n",
    "    if (index.lower() == 'a' or index.lower() == 'e' or index.lower() =='i' or index.lower() =='o' or index.lower() =='u'):\n",
    "        count = count +1\n",
    "print(f\"The number of vowel in given string is {count}\")       "
   ]
  },
  {
   "cell_type": "code",
   "execution_count": null,
   "id": "b58f3a08-6db7-4c7d-ba87-ee694d6032e1",
   "metadata": {},
   "outputs": [],
   "source": []
  }
 ],
 "metadata": {
  "kernelspec": {
   "display_name": "Python 3 (ipykernel)",
   "language": "python",
   "name": "python3"
  },
  "language_info": {
   "codemirror_mode": {
    "name": "ipython",
    "version": 3
   },
   "file_extension": ".py",
   "mimetype": "text/x-python",
   "name": "python",
   "nbconvert_exporter": "python",
   "pygments_lexer": "ipython3",
   "version": "3.10.8"
  }
 },
 "nbformat": 4,
 "nbformat_minor": 5
}
