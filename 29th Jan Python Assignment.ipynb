{
 "cells": [
  {
   "cell_type": "code",
   "execution_count": 1,
   "id": "9ae09d4b-a8c9-4f7e-8801-ce5471b70992",
   "metadata": {},
   "outputs": [],
   "source": [
    "#Q1 Who developed Python Programming Language?"
   ]
  },
  {
   "cell_type": "code",
   "execution_count": 2,
   "id": "404e2a4f-1110-4ef3-9065-f2d606dd1d82",
   "metadata": {},
   "outputs": [],
   "source": [
    "#Answer--> Python Programming Language is Developed by Guido Van Rossum and released it in 1991"
   ]
  },
  {
   "cell_type": "code",
   "execution_count": 3,
   "id": "ec87344e-b5d1-4741-8d83-e70323411b1c",
   "metadata": {},
   "outputs": [],
   "source": [
    "#Q2 Which type of Programming does python support?"
   ]
  },
  {
   "cell_type": "code",
   "execution_count": 4,
   "id": "6c56f0bf-7b75-44db-99d3-d916e69c632c",
   "metadata": {},
   "outputs": [],
   "source": [
    "#Answer-> Python is an interpreted programming language ,supporting object-oriented, structured and functional programming. "
   ]
  },
  {
   "cell_type": "code",
   "execution_count": 5,
   "id": "3e49146c-52e1-4a0f-a21f-2fb5cb4590f5",
   "metadata": {},
   "outputs": [],
   "source": [
    "#Q3 Is Python case-sensitive when dealing with identifiers?   "
   ]
  },
  {
   "cell_type": "code",
   "execution_count": 7,
   "id": "fb1f2967-7b6b-4a0b-b422-fc1f6015f887",
   "metadata": {},
   "outputs": [],
   "source": [
    "# Answer-> YES, python is case sensitive when dealing with identifiers it treats uppercase and lowercase character differently.\n",
    "# As python is a case sensitive language."
   ]
  },
  {
   "cell_type": "code",
   "execution_count": 8,
   "id": "75e51233-32e5-4caa-847e-9b43bb969b54",
   "metadata": {},
   "outputs": [],
   "source": [
    "#Q4 What is the Correct extension of python file ?\n"
   ]
  },
  {
   "cell_type": "code",
   "execution_count": 9,
   "id": "e987180a-22cd-4c7e-a66e-5218e2c9daec",
   "metadata": {},
   "outputs": [],
   "source": [
    "#Answer --> The correct extension of python file is \".py\"."
   ]
  },
  {
   "cell_type": "code",
   "execution_count": 10,
   "id": "5d10c080-73f9-4792-9d7d-c8f193b6c04c",
   "metadata": {},
   "outputs": [],
   "source": [
    "#Q5 Is python code compiled or interpreted?"
   ]
  },
  {
   "cell_type": "code",
   "execution_count": 11,
   "id": "37c9e7bf-a664-44d1-b98b-455bb605ebc9",
   "metadata": {},
   "outputs": [],
   "source": [
    "#Answer-> Python is a interpreted programming language which is source code is first converted into bytecode and that is then executed into python virtual machine.\n",
    "#The interpreter python used is \"CPython\"."
   ]
  },
  {
   "cell_type": "code",
   "execution_count": 12,
   "id": "0c8a4d68-05cd-47a5-9ce3-1b68f9a81e22",
   "metadata": {},
   "outputs": [],
   "source": [
    "#Q6 Name a few blocks of code used to define in python language?"
   ]
  },
  {
   "cell_type": "code",
   "execution_count": 13,
   "id": "74bbdc10-edc9-4269-acb0-a6b9dbf09b5e",
   "metadata": {},
   "outputs": [],
   "source": [
    "#Answer -> A block is a piece of Python program text that is executed as a unit. The following are blocks: a module, a function body, and a class definition. Each command typed interactively is a block."
   ]
  },
  {
   "cell_type": "code",
   "execution_count": 14,
   "id": "91f99d64-c485-4ddf-8f60-4a3f970c5a9a",
   "metadata": {},
   "outputs": [],
   "source": [
    "#Q7 State a character used to give single line comment in python?"
   ]
  },
  {
   "cell_type": "code",
   "execution_count": 16,
   "id": "d3ac9829-6933-405d-8118-0c0aea33c1d3",
   "metadata": {},
   "outputs": [],
   "source": [
    "#Answer -> \"#\" character is used to give single line comment in python."
   ]
  },
  {
   "cell_type": "code",
   "execution_count": 17,
   "id": "3bef568f-15ba-41a8-8e1f-af7b24e92192",
   "metadata": {},
   "outputs": [],
   "source": [
    "#Q8 Mention Function Which can help us to find current version of python we are working on?"
   ]
  },
  {
   "cell_type": "code",
   "execution_count": 18,
   "id": "e60b48e9-7cce-4187-a3dc-65fe6b0b275d",
   "metadata": {},
   "outputs": [
    {
     "name": "stdout",
     "output_type": "stream",
     "text": [
      "3.10.8\n"
     ]
    }
   ],
   "source": [
    "#Answer -> .python_version() method present in the platform module to print the version of the Python interpreter installed on the system. The platform.python_version() method returns a string in the form.\n",
    "#Code \n",
    "import platform\n",
    "\n",
    "print(platform.python_version())"
   ]
  },
  {
   "cell_type": "code",
   "execution_count": 19,
   "id": "a1b69540-ddce-4852-ad61-c9d457c274f8",
   "metadata": {},
   "outputs": [],
   "source": [
    "#Q9 Python supports the creation of anonymous function at runtime using a construct called? "
   ]
  },
  {
   "cell_type": "code",
   "execution_count": 20,
   "id": "38e515b7-9019-40e0-a445-d3beda801451",
   "metadata": {},
   "outputs": [],
   "source": [
    "#Answer -> The construct is called \"lambda\"."
   ]
  },
  {
   "cell_type": "code",
   "execution_count": 21,
   "id": "54e015a3-4a41-43d0-b9d7-535b0116fc45",
   "metadata": {},
   "outputs": [],
   "source": [
    "#Q10 What does pip stands for in python ?\n"
   ]
  },
  {
   "cell_type": "code",
   "execution_count": 22,
   "id": "11e411b2-48a8-449e-b909-7d5cb49014f9",
   "metadata": {},
   "outputs": [],
   "source": [
    "#Answer -> pip stands for \"Preferred Installer Program\".It comes in python by default from python version 2.7.9."
   ]
  },
  {
   "cell_type": "code",
   "execution_count": 23,
   "id": "01960697-96aa-4c80-aae5-4aa56894e489",
   "metadata": {},
   "outputs": [],
   "source": [
    "#Q11 Mention a few built in functions in python?"
   ]
  },
  {
   "cell_type": "code",
   "execution_count": 24,
   "id": "835e5721-147e-45f5-9d21-150f9dd4a9e9",
   "metadata": {},
   "outputs": [],
   "source": [
    "#Answer-> Few built in functions in python ar \"abs()\",\"round()\",\"bool()\",\"dict()\",\"eval()\"."
   ]
  },
  {
   "cell_type": "code",
   "execution_count": 25,
   "id": "ab8dda04-b78c-4a59-9c61-99ecf9dc4a20",
   "metadata": {},
   "outputs": [],
   "source": [
    "#Q12 What is the maximum possible length of identifier in python?"
   ]
  },
  {
   "cell_type": "code",
   "execution_count": 26,
   "id": "d5265be8-add8-4727-8aca-b1e76b39d28e",
   "metadata": {},
   "outputs": [],
   "source": [
    "#Answer -> Maximum possible length of identifier in python is \"79\" characters."
   ]
  },
  {
   "cell_type": "code",
   "execution_count": 27,
   "id": "5ffbe620-785b-40b3-a183-99f8c2072945",
   "metadata": {},
   "outputs": [],
   "source": [
    "#Q13 What are the benefits of using python?"
   ]
  },
  {
   "cell_type": "code",
   "execution_count": 28,
   "id": "4f661743-519d-4156-914f-3a9f723e5f92",
   "metadata": {},
   "outputs": [],
   "source": [
    "#Answer -> Simple to Use and Understand. For newcomers, Python is simple to understand and use. ...\n",
    "#Free and Open-Source. \n",
    "#Productivity has Increased. \n",
    "#Interpreted Language.\n",
    "#Extensive library.\n",
    "#Dynamically Typed.\n",
    "#Portability. "
   ]
  },
  {
   "cell_type": "code",
   "execution_count": 29,
   "id": "18ae0e08-8b43-40d8-a817-59b44973f523",
   "metadata": {},
   "outputs": [],
   "source": [
    "#Q14 How is memory managed in Python?"
   ]
  },
  {
   "cell_type": "code",
   "execution_count": 1,
   "id": "073a0619-9913-4ef8-b9d2-1a2f30c8c176",
   "metadata": {},
   "outputs": [],
   "source": [
    "#Answer-> Memory in Python is managed by Python private heap space. All Python objects and data structures are located in a private heap. This private heap is taken care of by Python Interpreter itself, and a programmer doesn't have access to this private heap."
   ]
  },
  {
   "cell_type": "code",
   "execution_count": 2,
   "id": "330efa94-b084-423e-b226-0b4d40f929c0",
   "metadata": {},
   "outputs": [],
   "source": [
    "#Q15 How to install Python in Windows and set path variables?"
   ]
  },
  {
   "cell_type": "code",
   "execution_count": 3,
   "id": "47fcf60b-b597-4023-910f-7118fc001588",
   "metadata": {},
   "outputs": [],
   "source": [
    "#Answer -> Open a browser to the Python website and download the Windows installer. 2. Double click on the downloaded file and install Python for all users, and ensure that Python is added to your path. Click on Install now to begin\n",
    "#The complete path of python.exe can be added by:\n",
    "\n",
    "#Right-clicking This PC and going to Properties.\n",
    "\n",
    "#Clicking on the Advanced system settings in the menu on the left.\n",
    "\n",
    "#Clicking on the Environment Variables button o​n the bottom right.\n",
    "\n",
    "#In the System variables section, selecting the Path variable and clicking on Edit. The next screen will show all the directories that are currently a part of the PATH variable.\n",
    "\n",
    "#Clicking on New and entering Python’s install directory."
   ]
  },
  {
   "cell_type": "code",
   "execution_count": 4,
   "id": "648e2278-9a5b-4adb-8d79-95e00073edbe",
   "metadata": {},
   "outputs": [],
   "source": [
    "#Q16 IS indentation Required in python?"
   ]
  },
  {
   "cell_type": "code",
   "execution_count": null,
   "id": "dc57b669-890e-4fa7-adbb-d85924d646f7",
   "metadata": {},
   "outputs": [],
   "source": [
    "#Answer -> Yes, indentation is required in python."
   ]
  }
 ],
 "metadata": {
  "kernelspec": {
   "display_name": "Python 3 (ipykernel)",
   "language": "python",
   "name": "python3"
  },
  "language_info": {
   "codemirror_mode": {
    "name": "ipython",
    "version": 3
   },
   "file_extension": ".py",
   "mimetype": "text/x-python",
   "name": "python",
   "nbconvert_exporter": "python",
   "pygments_lexer": "ipython3",
   "version": "3.10.8"
  }
 },
 "nbformat": 4,
 "nbformat_minor": 5
}
